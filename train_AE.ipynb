{
 "metadata": {
  "language_info": {
   "codemirror_mode": {
    "name": "ipython",
    "version": 3
   },
   "file_extension": ".py",
   "mimetype": "text/x-python",
   "name": "python",
   "nbconvert_exporter": "python",
   "pygments_lexer": "ipython3",
   "version": "3.8.5"
  },
  "orig_nbformat": 2,
  "kernelspec": {
   "name": "python385jvsc74a57bd0995efa93ae3765c2302cfbf3fe27e0eb0766ff14c0e61346faf18c86c7d5327d",
   "display_name": "Python 3.8.5 64-bit ('base': conda)"
  }
 },
 "nbformat": 4,
 "nbformat_minor": 2,
 "cells": [
  {
   "cell_type": "code",
   "execution_count": 24,
   "metadata": {},
   "outputs": [
    {
     "output_type": "stream",
     "name": "stdout",
     "text": [
      "Device mapping:\n/job:localhost/replica:0/task:0/device:GPU:0 -> device: 0, name: GeForce RTX 2070 SUPER, pci bus id: 0000:41:00.0, compute capability: 7.5\n\n"
     ]
    }
   ],
   "source": [
    "from SimpleUGEN import SimpleUGen\n",
    "import tensorflow as tf\n",
    "import numpy as np\n",
    "import tensorflow.keras as k\n",
    "import tensorflow.keras.backend as K\n",
    "from tensorflow.keras.optimizers import Adadelta, RMSprop,SGD,Adam\n",
    "\n",
    "from tensorflow.python.client import device_lib\n",
    "\n",
    "sess = tf.compat.v1.Session(config=tf.compat.v1.ConfigProto(log_device_placement=True))\n",
    "\n",
    "K.set_image_data_format('channels_first');"
   ]
  },
  {
   "source": [
    "## Load Data"
   ],
   "cell_type": "markdown",
   "metadata": {}
  },
  {
   "cell_type": "code",
   "execution_count": 7,
   "metadata": {},
   "outputs": [
    {
     "output_type": "stream",
     "name": "stdout",
     "text": [
      "(2175, 5, 8, 128, 128) (2175, 1, 8, 128, 128)\n",
      "(596, 5, 8, 128, 128) (596, 1, 8, 128, 128)\n"
     ]
    }
   ],
   "source": [
    "data = np.load(r\"../TrainingData/data.npz\")\n",
    "x_train = data['x_train']\n",
    "y_train = data['y_train']\n",
    "print(x_train.shape,y_train.shape)\n",
    "x_test = data['x_test']\n",
    "y_test = data['y_test']\n",
    "print(x_test.shape,y_test.shape)\n",
    "#del data"
   ]
  },
  {
   "source": [
    "## Make Model"
   ],
   "cell_type": "markdown",
   "metadata": {}
  },
  {
   "cell_type": "code",
   "execution_count": 25,
   "metadata": {},
   "outputs": [
    {
     "output_type": "stream",
     "name": "stdout",
     "text": [
      "(200, 5, 8, 64, 64)\n",
      "(200, 5, 8, 64, 64)\n",
      "(200, 10, 8, 32, 32)\n",
      "(200, 10, 8, 32, 32)\n",
      "(200, 15, 4, 16, 16)\n",
      "(200, 15, 4, 16, 16)\n",
      "(200, 20, 2, 8, 8)\n",
      "(200, 20, 2, 8, 8)\n",
      "Model: \"SimpleU\"\n",
      "_________________________________________________________________\n",
      "Layer (type)                 Output Shape              Param #   \n",
      "=================================================================\n",
      "Conv3D_0 (Conv3D)            multiple                  680       \n",
      "_________________________________________________________________\n",
      "Conv3D_1 (Conv3D)            multiple                  1360      \n",
      "_________________________________________________________________\n",
      "Conv3D_2 (Conv3D)            multiple                  4065      \n",
      "_________________________________________________________________\n",
      "Conv3D_3 (Conv3D)            multiple                  8120      \n",
      "_________________________________________________________________\n",
      "sequential_45 (Sequential)   (200, 5, 8, 64, 64)       164096    \n",
      "_________________________________________________________________\n",
      "sequential_46 (Sequential)   (200, 10, 8, 32, 32)      82048     \n",
      "_________________________________________________________________\n",
      "sequential_47 (Sequential)   (200, 15, 4, 16, 16)      15424     \n",
      "_________________________________________________________________\n",
      "sequential_48 (Sequential)   (200, 20, 2, 8, 8)        2592      \n",
      "_________________________________________________________________\n",
      "DeConv3D_0 (Conv3DTranspose) multiple                  2705      \n",
      "_________________________________________________________________\n",
      "DeConv3D_1 (Conv3DTranspose) multiple                  9460      \n",
      "_________________________________________________________________\n",
      "DeConv3D_2 (Conv3DTranspose) multiple                  20265     \n",
      "_________________________________________________________________\n",
      "DeConv3D_3 (Conv3DTranspose) multiple                  21620     \n",
      "_________________________________________________________________\n",
      "Noise_0 (NoiseLayer)         multiple                  0         \n",
      "_________________________________________________________________\n",
      "Noise_1 (NoiseLayer)         multiple                  0         \n",
      "_________________________________________________________________\n",
      "Noise_2 (NoiseLayer)         multiple                  0         \n",
      "_________________________________________________________________\n",
      "Noise_3 (NoiseLayer)         multiple                  0         \n",
      "_________________________________________________________________\n",
      "Concat_0 (Concatenate)       multiple                  0         \n",
      "_________________________________________________________________\n",
      "Concat_1 (Concatenate)       multiple                  0         \n",
      "_________________________________________________________________\n",
      "Concat_2 (Concatenate)       multiple                  0         \n",
      "_________________________________________________________________\n",
      "Concat_3 (Concatenate)       multiple                  0         \n",
      "_________________________________________________________________\n",
      "sequential_49 (Sequential)   (200, 5, 8, 128, 128)     655872    \n",
      "_________________________________________________________________\n",
      "sequential_50 (Sequential)   (200, 10, 8, 64, 64)      327936    \n",
      "_________________________________________________________________\n",
      "sequential_51 (Sequential)   (200, 15, 8, 32, 32)      123008    \n",
      "_________________________________________________________________\n",
      "sequential_52 (Sequential)   (200, 20, 4, 16, 16)      20544     \n",
      "_________________________________________________________________\n",
      "Output (Conv3D)              multiple                  136       \n",
      "=================================================================\n",
      "Total params: 1,459,931\n",
      "Trainable params: 1,459,211\n",
      "Non-trainable params: 720\n",
      "_________________________________________________________________\n"
     ]
    }
   ],
   "source": [
    "ae = SimpleUGen(do_batch_norm=True)\n",
    "ae.compile(loss='mean_squared_error', optimizer = RMSprop())\n",
    "ae.build([200,5,8,128,128])\n",
    "ae.summary()"
   ]
  },
  {
   "source": [
    "## Train UGEN"
   ],
   "cell_type": "markdown",
   "metadata": {}
  },
  {
   "cell_type": "code",
   "execution_count": 26,
   "metadata": {},
   "outputs": [
    {
     "output_type": "stream",
     "name": "stdout",
     "text": [
      "(2175, 5, 8, 128, 128)\n",
      "Epoch 1/50\n",
      "43/44 [============================>.] - ETA: 0s - loss: 12555.0235"
     ]
    }
   ],
   "source": [
    "print(x_train.shape)\n",
    "ae.fit(x_train,y_train,epochs=50,batch_size=50,shuffle=True,validation_data=(x_test, y_test))"
   ]
  },
  {
   "cell_type": "code",
   "execution_count": null,
   "metadata": {},
   "outputs": [],
   "source": []
  }
 ]
}