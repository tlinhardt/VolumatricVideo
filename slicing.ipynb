{
 "metadata": {
  "language_info": {
   "codemirror_mode": {
    "name": "ipython",
    "version": 3
   },
   "file_extension": ".py",
   "mimetype": "text/x-python",
   "name": "python",
   "nbconvert_exporter": "python",
   "pygments_lexer": "ipython3",
   "version": "3.8.5-final"
  },
  "orig_nbformat": 2,
  "kernelspec": {
   "name": "python385jvsc74a57bd0995efa93ae3765c2302cfbf3fe27e0eb0766ff14c0e61346faf18c86c7d5327d",
   "display_name": "Python 3.8.5 64-bit (conda)"
  }
 },
 "nbformat": 4,
 "nbformat_minor": 2,
 "cells": [
  {
   "cell_type": "code",
   "execution_count": 1,
   "metadata": {},
   "outputs": [],
   "source": [
    "from PIL import Image\n",
    "import SimpleITK as sitk"
   ]
  },
  {
   "cell_type": "code",
   "execution_count": 12,
   "metadata": {},
   "outputs": [],
   "source": [
    "def save_gif(frames,name:str):\n",
    "    if name[-4:] != '.gif':\n",
    "        name += 'gif'\n",
    "    frames[0].save(name,format='GIF',append_images=frames[1:],save_all=True,loop=0)"
   ]
  },
  {
   "cell_type": "code",
   "execution_count": 15,
   "metadata": {},
   "outputs": [],
   "source": [
    "file_name = r'..\\ImageData\\training\\patient100\\patient100_4d.nii.gz'\n",
    "im = sitk.ReadImage(file_name,sitk.sitkUInt8)\n",
    "save_gif([Image.fromarray(sitk.GetArrayFromImage(im[:,:,5,i])) for i in range(34)],'test.gif')"
   ]
  },
  {
   "cell_type": "code",
   "execution_count": 18,
   "metadata": {},
   "outputs": [
    {
     "output_type": "stream",
     "name": "stdout",
     "text": [
      "Image (000001983B33FA20)\n  RTTI typeinfo:   class itk::Image<short,2>\n  Reference Count: 1\n  Modified Time: 3073\n  Debug: Off\n  Object Name: \n  Observers: \n    none\n  Source: (none)\n  Source output name: (none)\n  Release Data: Off\n  Data Released: False\n  Global Release Data: Off\n  PipelineMTime: 3062\n  UpdateMTime: 3072\n  RealTimeStamp: 0 seconds \n  LargestPossibleRegion: \n    Dimension: 2\n    Index: [0, 0]\n    Size: [216, 256]\n  BufferedRegion: \n    Dimension: 2\n    Index: [0, 0]\n    Size: [216, 256]\n  RequestedRegion: \n    Dimension: 2\n    Index: [0, 0]\n    Size: [216, 256]\n  Spacing: [1.5625, 1.5625]\n  Origin: [0, 0]\n  Direction: \n1 0\n0 1\n\n  IndexToPointMatrix: \n1.5625 0\n0 1.5625\n\n  PointToIndexMatrix: \n0.64 0\n0 0.64\n\n  Inverse Direction: \n1 0\n0 1\n\n  PixelContainer: \n    ImportImageContainer (000001983AB2DB60)\n      RTTI typeinfo:   class itk::ImportImageContainer<unsigned __int64,short>\n      Reference Count: 1\n      Modified Time: 3070\n      Debug: Off\n      Object Name: \n      Observers: \n        none\n      Pointer: 000001983B7A30E0\n      Container manages memory: true\n      Size: 55296\n      Capacity: 55296\n\n"
     ]
    }
   ],
   "source": [
    "print(im[:,:,5,1])"
   ]
  },
  {
   "cell_type": "code",
   "execution_count": null,
   "metadata": {},
   "outputs": [],
   "source": []
  }
 ]
}