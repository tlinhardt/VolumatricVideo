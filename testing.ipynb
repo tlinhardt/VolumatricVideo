{
 "metadata": {
  "language_info": {
   "codemirror_mode": {
    "name": "ipython",
    "version": 3
   },
   "file_extension": ".py",
   "mimetype": "text/x-python",
   "name": "python",
   "nbconvert_exporter": "python",
   "pygments_lexer": "ipython3",
   "version": "3.8.5-final"
  },
  "orig_nbformat": 2,
  "kernelspec": {
   "name": "python385jvsc74a57bd0995efa93ae3765c2302cfbf3fe27e0eb0766ff14c0e61346faf18c86c7d5327d",
   "display_name": "Python 3.8.5 64-bit (conda)"
  }
 },
 "nbformat": 4,
 "nbformat_minor": 2,
 "cells": [
  {
   "cell_type": "code",
   "execution_count": 1,
   "metadata": {},
   "outputs": [],
   "source": [
    "from UGEN import UGen\n",
    "from Trilinear import TrilinearUpSampling3D\n",
    "import tensorflow as tf\n",
    "import tensorflow.keras as k\n",
    "import tensorflow.keras.layers as layers\n",
    "input_shape = [64,64,64,1]"
   ]
  },
  {
   "cell_type": "code",
   "execution_count": 2,
   "metadata": {},
   "outputs": [
    {
     "output_type": "stream",
     "name": "stdout",
     "text": [
      "Model: \"model\"\n_________________________________________________________________\nLayer (type)                 Output Shape              Param #   \n=================================================================\ninput_1 (InputLayer)         [(None, 64, 64, 64, 1)]   0         \n_________________________________________________________________\ntrilinear_up_sampling3d (Tri (None, 128, 128, 128, 1)  28        \n=================================================================\nTotal params: 28\nTrainable params: 28\nNon-trainable params: 0\n_________________________________________________________________\n"
     ]
    }
   ],
   "source": [
    "inputs = layers.Input(input_shape)\n",
    "outputs = TrilinearUpSampling3D()(inputs)\n",
    "model = k.Model(inputs, outputs)\n",
    "model.summary()"
   ]
  },
  {
   "cell_type": "code",
   "execution_count": 4,
   "metadata": {},
   "outputs": [
    {
     "output_type": "stream",
     "name": "stdout",
     "text": [
      "Model: \"UGen\"\n_________________________________________________________________\nLayer (type)                 Output Shape              Param #   \n=================================================================\nInitialConv (Conv3D)         multiple                  224       \n_________________________________________________________________\nResBlockEnd_1 (Sequential)   (1, 32, 32, 32, 16)       531216    \n_________________________________________________________________\nResBlockStart_1 (Sequential) (1, 32, 32, 32, 16)       2100624   \n_________________________________________________________________\nResSkip_1 (Add)              multiple                  0         \n_________________________________________________________________\nResBlockEnd_2 (Sequential)   (1, 16, 16, 16, 32)       158752    \n_________________________________________________________________\nResBlockStart_2 (Sequential) (1, 16, 16, 16, 32)       538144    \n_________________________________________________________________\nResSkip_2 (Add)              multiple                  0         \n_________________________________________________________________\nResBlockEnd_3 (Sequential)   (1, 8, 8, 8, 40)          63720     \n_________________________________________________________________\nResBlockStart_3 (Sequential) (1, 8, 8, 8, 40)          165672    \n_________________________________________________________________\nResSkip_3 (Add)              multiple                  0         \n_________________________________________________________________\nActivation_4 (PReLU)         multiple                  20480     \n_________________________________________________________________\nconcatenate_1 (Concatenate)  multiple                  0         \n_________________________________________________________________\nUpBlock_3 (Sequential)       (1, 16, 16, 16, 32)       177728    \n_________________________________________________________________\nActivation_3 (PReLU)         multiple                  131072    \n_________________________________________________________________\nSkip_3 (Concatenate)         multiple                  0         \n_________________________________________________________________\nPostSkipBlock_3 (Sequential) (1, 16, 16, 16, 64)       428096    \n_________________________________________________________________\nUpBlock_2 (Sequential)       (1, 32, 32, 32, 16)       671280    \n_________________________________________________________________\nActivation_2 (PReLU)         multiple                  524288    \n_________________________________________________________________\nSkip_2 (Concatenate)         multiple                  0         \n_________________________________________________________________\nPostSkipBlock_2 (Sequential) (1, 32, 32, 32, 32)       1090080   \n_________________________________________________________________\nUpBlock_1 (Sequential)       (1, 64, 64, 64, 8)        2625432   \n_________________________________________________________________\nActivation_1 (PReLU)         multiple                  2097152   \n_________________________________________________________________\nSkip_1 (Concatenate)         multiple                  0         \n_________________________________________________________________\nPostSkipBlock_1 (Sequential) (1, 64, 64, 64, 16)       4204688   \n_________________________________________________________________\nCondenser_3 (Conv3D)         multiple                  65        \n_________________________________________________________________\nCondenser_2 (Conv3D)         multiple                  33        \n_________________________________________________________________\nCondenser_1 (Conv3D)         multiple                  17        \n_________________________________________________________________\nInterpolator_3 (TrilinearUpS multiple                  28        \n_________________________________________________________________\nInterpolator_2 (TrilinearUpS multiple                  28        \n_________________________________________________________________\nUpSum_2 (Add)                multiple                  0         \n_________________________________________________________________\nUpSum_1 (Add)                multiple                  0         \n_________________________________________________________________\nFinal_Activation (ReLU)      multiple                  0         \n=================================================================\nTotal params: 15,528,819\nTrainable params: 15,528,819\nNon-trainable params: 0\n_________________________________________________________________\nNone\n"
     ]
    }
   ],
   "source": [
    "\n",
    "input_shape = [1,64,64,64,1]\n",
    "model = UGen(do_batchnorm=False)\n",
    "model.build(input_shape)\n",
    "#model = k.Model(inputs=generator.inputs, outputs=generator.output)\n",
    "print(model.summary())"
   ]
  },
  {
   "cell_type": "code",
   "execution_count": null,
   "metadata": {},
   "outputs": [],
   "source": []
  },
  {
   "cell_type": "code",
   "execution_count": null,
   "metadata": {},
   "outputs": [],
   "source": []
  }
 ]
}