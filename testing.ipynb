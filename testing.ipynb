{
 "metadata": {
  "language_info": {
   "codemirror_mode": {
    "name": "ipython",
    "version": 3
   },
   "file_extension": ".py",
   "mimetype": "text/x-python",
   "name": "python",
   "nbconvert_exporter": "python",
   "pygments_lexer": "ipython3",
   "version": "3.8.5-final"
  },
  "orig_nbformat": 2,
  "kernelspec": {
   "name": "python385jvsc74a57bd00b5553e4ed9249f7c7f2547690fd8ecc047c16d11b85f97940ff8da8081f113a",
   "display_name": "Python 3.8.5 64-bit (conda)"
  }
 },
 "nbformat": 4,
 "nbformat_minor": 2,
 "cells": [
  {
   "cell_type": "code",
   "execution_count": 16,
   "metadata": {},
   "outputs": [],
   "source": [
    "from UGEN import UGen\n",
    "from SimpleUGEN import SimpleUgen\n",
    "from Trilinear import TrilinearUpSampling3D\n",
    "import tensorflow as tf\n",
    "import tensorflow.keras as k\n",
    "import tensorflow.keras.layers as layers\n",
    "import numpy as np\n",
    "input_shape = [1,64,64,64]"
   ]
  },
  {
   "cell_type": "code",
   "execution_count": 17,
   "metadata": {},
   "outputs": [
    {
     "output_type": "stream",
     "name": "stdout",
     "text": [
      "Model: \"SimpleU\"\n_________________________________________________________________\nLayer (type)                 Output Shape              Param #   \n=================================================================\nConv3D_0 (Conv3D)            multiple                  680       \n_________________________________________________________________\nConv3D_1 (Conv3D)            multiple                  1360      \n_________________________________________________________________\nConv3D_2 (Conv3D)            multiple                  4065      \n_________________________________________________________________\nConv3D_3 (Conv3D)            multiple                  8120      \n_________________________________________________________________\nDeConv3D_0 (Conv3DTranspose) multiple                  2705      \n_________________________________________________________________\nDeConv3D_1 (Conv3DTranspose) multiple                  9460      \n_________________________________________________________________\nDeConv3D_2 (Conv3DTranspose) multiple                  20265     \n_________________________________________________________________\nDeConv3D_3 (Conv3DTranspose) multiple                  21620     \n_________________________________________________________________\nConcat_0 (Concatenate)       multiple                  0         \n_________________________________________________________________\nConcat_1 (Concatenate)       multiple                  0         \n_________________________________________________________________\nConcat_2 (Concatenate)       multiple                  0         \n_________________________________________________________________\nConcat_3 (Concatenate)       multiple                  0         \n_________________________________________________________________\nOutput (Conv3D)              multiple                  136       \n=================================================================\nTotal params: 68,411\nTrainable params: 68,411\nNon-trainable params: 0\n_________________________________________________________________\nNone\n"
     ]
    }
   ],
   "source": [
    "\n",
    "input_shape = [1,64,64,64,5]\n",
    "model = SimpleUgen()\n",
    "model.build(input_shape)\n",
    "print(model.summary())"
   ]
  },
  {
   "cell_type": "code",
   "execution_count": 2,
   "metadata": {},
   "outputs": [
    {
     "output_type": "stream",
     "name": "stdout",
     "text": [
      "[[[1. 0.]\n  [0. 0.]]\n\n [[0. 0.]\n  [0. 0.]]]\n(1, 4, 4, 4, 1)\n[[[1.    1.    0.5   0.   ]\n  [1.    1.    0.5   0.   ]\n  [0.5   0.5   0.25  0.   ]\n  [0.    0.    0.    0.   ]]\n\n [[1.    1.    0.5   0.   ]\n  [1.    1.    0.5   0.   ]\n  [0.5   0.5   0.25  0.   ]\n  [0.    0.    0.    0.   ]]\n\n [[0.5   0.5   0.25  0.   ]\n  [0.5   0.5   0.25  0.   ]\n  [0.25  0.25  0.125 0.   ]\n  [0.    0.    0.    0.   ]]\n\n [[0.    0.    0.    0.   ]\n  [0.    0.    0.    0.   ]\n  [0.    0.    0.    0.   ]\n  [0.    0.    0.    0.   ]]]\n"
     ]
    }
   ],
   "source": [
    "\n",
    "input_shape = [2,2,2,1]\n",
    "inputs = layers.Input(input_shape)\n",
    "outputs = TrilinearUpSampling3D()(inputs)\n",
    "model = k.Model(inputs, outputs)\n",
    "model.build(input_shape)\n",
    "#model.summary()\n",
    "im = np.zeros([1,2,2,2,1])\n",
    "im[0,0,0,0,0] = 1\n",
    "print(im[0,:,:,:,0])\n",
    "ou = model(im).numpy()\n",
    "print(ou.shape)\n",
    "print(ou[0,:,:,:,0])\n"
   ]
  },
  {
   "cell_type": "code",
   "execution_count": null,
   "metadata": {},
   "outputs": [],
   "source": []
  }
 ]
}