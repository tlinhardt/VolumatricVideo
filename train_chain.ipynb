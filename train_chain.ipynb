{
 "metadata": {
  "language_info": {
   "codemirror_mode": {
    "name": "ipython",
    "version": 3
   },
   "file_extension": ".py",
   "mimetype": "text/x-python",
   "name": "python",
   "nbconvert_exporter": "python",
   "pygments_lexer": "ipython3",
   "version": "3.8.5"
  },
  "orig_nbformat": 2,
  "kernelspec": {
   "name": "python385jvsc74a57bd0995efa93ae3765c2302cfbf3fe27e0eb0766ff14c0e61346faf18c86c7d5327d",
   "display_name": "Python 3.8.5 64-bit ('base': conda)"
  }
 },
 "nbformat": 4,
 "nbformat_minor": 2,
 "cells": [
  {
   "source": [
    "## INIT DATA"
   ],
   "cell_type": "markdown",
   "metadata": {}
  },
  {
   "cell_type": "code",
   "execution_count": 11,
   "metadata": {},
   "outputs": [],
   "source": [
    "from PIL import Image\n",
    "import SimpleITK as sitk\n",
    "from setup_data import setup_data, setup_feedback_data\n",
    "from datetime import datetime"
   ]
  },
  {
   "cell_type": "code",
   "execution_count": 2,
   "metadata": {},
   "outputs": [],
   "source": [
    "setup_data(r\"../ImageData/\",r\"../TrainingData/\",frames=10,parsing=3)\n",
    "setup_feedback_data(r\"../ImageData/\",r\"../TrainingData/\",frames=5, future=5,parsing=3)"
   ]
  },
  {
   "source": [
    "## Setup GPU"
   ],
   "cell_type": "markdown",
   "metadata": {}
  },
  {
   "cell_type": "code",
   "execution_count": 2,
   "metadata": {},
   "outputs": [],
   "source": [
    "%load_ext tensorboard"
   ]
  },
  {
   "cell_type": "code",
   "execution_count": 5,
   "metadata": {},
   "outputs": [
    {
     "output_type": "stream",
     "name": "stdout",
     "text": [
      "Device mapping:\n/job:localhost/replica:0/task:0/device:GPU:0 -> device: 0, name: GeForce RTX 2070 SUPER, pci bus id: 0000:41:00.0, compute capability: 7.5\n\n"
     ]
    }
   ],
   "source": [
    "import tensorflow as tf\n",
    "import numpy as np\n",
    "import tensorflow.keras as k\n",
    "import tensorflow.keras.backend as K\n",
    "from tensorflow.keras.optimizers import Adadelta, RMSprop,SGD,Adam\n",
    "from tensorflow.python.client import device_lib\n",
    "\n",
    "config = tf.compat.v1.ConfigProto(log_device_placement=True,\n",
    "      gpu_options = tf.compat.v1.GPUOptions(per_process_gpu_memory_fraction=0.9))\n",
    "      \n",
    "sess = tf.compat.v1.Session(config=config)\n",
    "physical_devices = tf.config.list_physical_devices('GPU') \n",
    "try:\n",
    "  tf.config.experimental.set_memory_growth(physical_devices[0], True)\n",
    "except:\n",
    "  # Invalid device or cannot modify virtual devices once initialized.\n",
    "  print('failed to set growth')\n",
    "\n",
    "K.set_image_data_format('channels_first');"
   ]
  },
  {
   "cell_type": "code",
   "execution_count": 6,
   "metadata": {},
   "outputs": [
    {
     "output_type": "execute_result",
     "data": {
      "text/plain": [
       "'2.4.1'"
      ]
     },
     "metadata": {},
     "execution_count": 6
    }
   ],
   "source": [
    "import tensorboard\n",
    "tensorboard.__version__"
   ]
  },
  {
   "source": [
    "## Train AE\n",
    "### Load AE Data"
   ],
   "cell_type": "markdown",
   "metadata": {}
  },
  {
   "cell_type": "code",
   "execution_count": 7,
   "metadata": {},
   "outputs": [
    {
     "output_type": "stream",
     "name": "stdout",
     "text": [
      "(5, 8, 128, 128) (5, 8, 128, 128)\n",
      "(159, 5, 8, 128, 128) (159, 5, 8, 128, 128)\n"
     ]
    }
   ],
   "source": [
    "data = np.load(r\"../TrainingData/feedback_data.npz\")\n",
    "x_train = data['x_train']\n",
    "y_train = data['y_train']\n",
    "print(x_train[0].shape,y_train[0].shape)\n",
    "x_test = data['x_test']\n",
    "y_test = data['y_test']\n",
    "print(x_test.shape,y_test.shape)"
   ]
  },
  {
   "source": [
    "### Setup AE"
   ],
   "cell_type": "markdown",
   "metadata": {}
  },
  {
   "cell_type": "code",
   "execution_count": 26,
   "metadata": {},
   "outputs": [
    {
     "output_type": "stream",
     "name": "stdout",
     "text": [
      "Model: \"SimpleU\"\n_________________________________________________________________\nLayer (type)                 Output Shape              Param #   \n=================================================================\nConv3D_0 (Conv3D)            multiple                  680       \n_________________________________________________________________\nConv3D_1 (Conv3D)            multiple                  1360      \n_________________________________________________________________\nConv3D_2 (Conv3D)            multiple                  4065      \n_________________________________________________________________\nConv3D_3 (Conv3D)            multiple                  8120      \n_________________________________________________________________\nDownActivation_0 (PReLU)     multiple                  163840    \n_________________________________________________________________\nDownActivation_1 (PReLU)     multiple                  81920     \n_________________________________________________________________\nDownActivation_2 (PReLU)     multiple                  15360     \n_________________________________________________________________\nDownActivation_3 (PReLU)     multiple                  2560      \n_________________________________________________________________\nDeConv3D_0 (Conv3DTranspose) multiple                  2705      \n_________________________________________________________________\nDeConv3D_1 (Conv3DTranspose) multiple                  9460      \n_________________________________________________________________\nDeConv3D_2 (Conv3DTranspose) multiple                  20265     \n_________________________________________________________________\nDeConv3D_3 (Conv3DTranspose) multiple                  21620     \n_________________________________________________________________\nNoise_0 (NoiseLayer)         multiple                  0         \n_________________________________________________________________\nNoise_1 (NoiseLayer)         multiple                  0         \n_________________________________________________________________\nNoise_2 (NoiseLayer)         multiple                  0         \n_________________________________________________________________\nNoise_3 (NoiseLayer)         multiple                  0         \n_________________________________________________________________\nConcat_0 (Concatenate)       multiple                  0         \n_________________________________________________________________\nConcat_1 (Concatenate)       multiple                  0         \n_________________________________________________________________\nConcat_2 (Concatenate)       multiple                  0         \n_________________________________________________________________\nConcat_3 (Concatenate)       multiple                  0         \n_________________________________________________________________\nUpActivation_0 (PReLU)       multiple                  655360    \n_________________________________________________________________\nUpActivation_1 (PReLU)       multiple                  327680    \n_________________________________________________________________\nUpActivation_2 (PReLU)       multiple                  122880    \n_________________________________________________________________\nUpActivation_3 (PReLU)       multiple                  20480     \n_________________________________________________________________\nOutput (Conv3D)              multiple                  136       \n=================================================================\nTotal params: 1,458,491\nTrainable params: 1,458,491\nNon-trainable params: 0\n_________________________________________________________________\n"
     ]
    }
   ],
   "source": [
    "EarlyStop = k.callbacks.EarlyStopping(monitor='loss',patience=5, restore_best_weights=True)\n",
    "# Define the Keras TensorBoard callback.\n",
    "aelogdir=\"logs/ae_fit/\" + datetime.now().strftime(\"%Y%m%d-%H%M%S\")\n",
    "tensorboard_callback = k.callbacks.TensorBoard(log_dir=aelogdir)\n",
    "\n",
    "from FeedbackGenerator import FeedbackGenerator\n",
    "try: del ae\n",
    "except: pass\n",
    "ae = FeedbackGenerator(do_batch_norm=False,use_noise=True)\n",
    "ae.compile(loss='huber', optimizer = Adam(learning_rate=.0001),run_eagerly=True);\n",
    "ae.build([50,5,8,128,128]);\n",
    "ae.summary()"
   ]
  },
  {
   "source": [
    "### Run AE"
   ],
   "cell_type": "markdown",
   "metadata": {}
  },
  {
   "cell_type": "code",
   "execution_count": 14,
   "metadata": {},
   "outputs": [
    {
     "output_type": "stream",
     "name": "stdout",
     "text": [
      "Epoch 1/100\n",
      "13/13 [==============================] - 29s 1s/step - loss: 0.0621\n",
      "Epoch 2/100\n",
      "13/13 [==============================] - 14s 1s/step - loss: 0.0579\n",
      "Epoch 3/100\n",
      "13/13 [==============================] - 15s 1s/step - loss: 0.0552\n",
      "Epoch 4/100\n",
      "13/13 [==============================] - 14s 1s/step - loss: 0.0435\n",
      "Epoch 5/100\n",
      "13/13 [==============================] - 15s 1s/step - loss: 0.0346\n",
      "Epoch 6/100\n",
      "13/13 [==============================] - 14s 1s/step - loss: 0.0276\n",
      "Epoch 7/100\n",
      "13/13 [==============================] - 15s 1s/step - loss: 0.0233\n",
      "Epoch 8/100\n",
      "13/13 [==============================] - 15s 1s/step - loss: 0.0239\n",
      "Epoch 9/100\n",
      "13/13 [==============================] - 15s 1s/step - loss: 0.0196\n",
      "Epoch 10/100\n",
      "13/13 [==============================] - 15s 1s/step - loss: 0.0207\n",
      "Epoch 11/100\n",
      "13/13 [==============================] - 14s 1s/step - loss: 0.0234\n",
      "Epoch 12/100\n",
      "13/13 [==============================] - 14s 1s/step - loss: 0.0197\n",
      "Epoch 13/100\n",
      "13/13 [==============================] - 15s 1s/step - loss: 0.0206\n",
      "Epoch 14/100\n",
      "13/13 [==============================] - 15s 1s/step - loss: 0.0182\n",
      "Epoch 15/100\n",
      "13/13 [==============================] - 15s 1s/step - loss: 0.0182\n",
      "Epoch 16/100\n",
      "13/13 [==============================] - 14s 1s/step - loss: 0.0184\n",
      "Epoch 17/100\n",
      "13/13 [==============================] - 15s 1s/step - loss: 0.0173\n",
      "Epoch 18/100\n",
      "13/13 [==============================] - 14s 1s/step - loss: 0.0197\n",
      "Epoch 19/100\n",
      "13/13 [==============================] - 15s 1s/step - loss: 0.0171\n",
      "Epoch 20/100\n",
      "13/13 [==============================] - 15s 1s/step - loss: 0.0166\n",
      "Epoch 21/100\n",
      "13/13 [==============================] - 15s 1s/step - loss: 0.0166\n",
      "Epoch 22/100\n",
      "13/13 [==============================] - 15s 1s/step - loss: 0.0167\n",
      "Epoch 23/100\n",
      "13/13 [==============================] - 15s 1s/step - loss: 0.0183\n",
      "Epoch 24/100\n",
      "13/13 [==============================] - 15s 1s/step - loss: 0.0173\n",
      "Epoch 25/100\n",
      "13/13 [==============================] - 15s 1s/step - loss: 0.0195\n",
      "Epoch 26/100\n",
      "13/13 [==============================] - 15s 1s/step - loss: 0.0145\n",
      "Epoch 27/100\n",
      "13/13 [==============================] - 15s 1s/step - loss: 0.0175\n",
      "Epoch 28/100\n",
      "13/13 [==============================] - 15s 1s/step - loss: 0.0179\n",
      "Epoch 29/100\n",
      "13/13 [==============================] - 15s 1s/step - loss: 0.0157\n",
      "Epoch 30/100\n",
      "13/13 [==============================] - 15s 1s/step - loss: 0.0165\n",
      "Epoch 31/100\n",
      "13/13 [==============================] - 15s 1s/step - loss: 0.0133\n",
      "Epoch 32/100\n",
      "13/13 [==============================] - 15s 1s/step - loss: 0.0166\n",
      "Epoch 33/100\n",
      "13/13 [==============================] - 15s 1s/step - loss: 0.0151\n",
      "Epoch 34/100\n",
      "13/13 [==============================] - 15s 1s/step - loss: 0.0155\n",
      "Epoch 35/100\n",
      "13/13 [==============================] - 15s 1s/step - loss: 0.0141\n",
      "Epoch 36/100\n",
      "13/13 [==============================] - 15s 1s/step - loss: 0.0149\n",
      "Epoch 37/100\n",
      "13/13 [==============================] - 15s 1s/step - loss: 0.0147\n",
      "Epoch 38/100\n",
      "13/13 [==============================] - 15s 1s/step - loss: 0.0150\n",
      "Epoch 39/100\n",
      "13/13 [==============================] - 15s 1s/step - loss: 0.0145\n",
      "Epoch 40/100\n",
      "13/13 [==============================] - 15s 1s/step - loss: 0.0158\n",
      "Epoch 41/100\n",
      "13/13 [==============================] - 15s 1s/step - loss: 0.0132\n",
      "Epoch 42/100\n",
      "13/13 [==============================] - 15s 1s/step - loss: 0.0126\n",
      "Epoch 43/100\n",
      "13/13 [==============================] - 15s 1s/step - loss: 0.0143\n",
      "Epoch 44/100\n",
      "13/13 [==============================] - 15s 1s/step - loss: 0.0131\n",
      "Epoch 45/100\n",
      "13/13 [==============================] - 15s 1s/step - loss: 0.0123\n",
      "Epoch 46/100\n",
      "13/13 [==============================] - 15s 1s/step - loss: 0.0124\n",
      "Epoch 47/100\n",
      "13/13 [==============================] - 15s 1s/step - loss: 0.0143\n",
      "Epoch 48/100\n",
      "13/13 [==============================] - 15s 1s/step - loss: 0.0128\n",
      "Epoch 49/100\n",
      "13/13 [==============================] - 15s 1s/step - loss: 0.0139\n",
      "Epoch 50/100\n",
      "13/13 [==============================] - 15s 1s/step - loss: 0.0144\n",
      "Epoch 51/100\n",
      "13/13 [==============================] - 15s 1s/step - loss: 0.0145\n",
      "Epoch 52/100\n",
      "13/13 [==============================] - 15s 1s/step - loss: 0.0126\n",
      "Epoch 53/100\n",
      "13/13 [==============================] - 15s 1s/step - loss: 0.0125\n",
      "Epoch 54/100\n",
      "13/13 [==============================] - 15s 1s/step - loss: 0.0126\n",
      "Epoch 55/100\n",
      "13/13 [==============================] - 15s 1s/step - loss: 0.0123\n",
      "Epoch 56/100\n",
      "13/13 [==============================] - 15s 1s/step - loss: 0.0130\n",
      "Epoch 57/100\n",
      "13/13 [==============================] - 15s 1s/step - loss: 0.0138\n",
      "Epoch 58/100\n",
      "13/13 [==============================] - 15s 1s/step - loss: 0.0114\n",
      "Epoch 59/100\n",
      "13/13 [==============================] - 15s 1s/step - loss: 0.0130\n",
      "Epoch 60/100\n",
      "13/13 [==============================] - 15s 1s/step - loss: 0.0139\n",
      "Epoch 61/100\n",
      "13/13 [==============================] - 15s 1s/step - loss: 0.0120\n",
      "Epoch 62/100\n",
      "13/13 [==============================] - 15s 1s/step - loss: 0.0111\n",
      "Epoch 63/100\n",
      "13/13 [==============================] - 15s 1s/step - loss: 0.0135\n",
      "Epoch 64/100\n",
      "13/13 [==============================] - 15s 1s/step - loss: 0.0127\n",
      "Epoch 65/100\n",
      "13/13 [==============================] - 15s 1s/step - loss: 0.0132\n",
      "Epoch 66/100\n",
      "13/13 [==============================] - 15s 1s/step - loss: 0.0138\n",
      "Epoch 67/100\n",
      "13/13 [==============================] - 15s 1s/step - loss: 0.0157\n",
      "Epoch 68/100\n",
      "13/13 [==============================] - 15s 1s/step - loss: 0.0113\n",
      "Epoch 69/100\n",
      "13/13 [==============================] - 15s 1s/step - loss: 0.0132\n",
      "Epoch 70/100\n",
      "13/13 [==============================] - 15s 1s/step - loss: 0.0116\n",
      "Epoch 71/100\n",
      "13/13 [==============================] - 15s 1s/step - loss: 0.0154\n",
      "Epoch 72/100\n",
      "13/13 [==============================] - 15s 1s/step - loss: 0.0122\n",
      "Epoch 73/100\n",
      "13/13 [==============================] - 15s 1s/step - loss: 0.0149\n",
      "Epoch 74/100\n",
      "13/13 [==============================] - 15s 1s/step - loss: 0.0121\n",
      "Epoch 75/100\n",
      "13/13 [==============================] - 15s 1s/step - loss: 0.0147\n",
      "Epoch 76/100\n",
      "13/13 [==============================] - 15s 1s/step - loss: 0.0144\n",
      "Epoch 77/100\n",
      "13/13 [==============================] - 15s 1s/step - loss: 0.0119\n",
      "Epoch 78/100\n",
      "13/13 [==============================] - 15s 1s/step - loss: 0.0117\n",
      "Epoch 79/100\n",
      "13/13 [==============================] - 15s 1s/step - loss: 0.0123\n",
      "Epoch 80/100\n",
      "13/13 [==============================] - 15s 1s/step - loss: 0.0113\n",
      "Epoch 81/100\n",
      "13/13 [==============================] - 15s 1s/step - loss: 0.0124\n",
      "Epoch 82/100\n",
      "13/13 [==============================] - 15s 1s/step - loss: 0.0151\n",
      "Epoch 83/100\n",
      "13/13 [==============================] - 15s 1s/step - loss: 0.0126\n",
      "Epoch 84/100\n",
      "13/13 [==============================] - 15s 1s/step - loss: 0.0132\n",
      "Epoch 85/100\n",
      "13/13 [==============================] - 15s 1s/step - loss: 0.0137\n",
      "Epoch 86/100\n",
      "13/13 [==============================] - 15s 1s/step - loss: 0.0119\n",
      "Epoch 87/100\n",
      "13/13 [==============================] - 15s 1s/step - loss: 0.0108\n",
      "Epoch 88/100\n",
      "13/13 [==============================] - 15s 1s/step - loss: 0.0114\n",
      "Epoch 89/100\n",
      "13/13 [==============================] - 15s 1s/step - loss: 0.0123\n",
      "Epoch 90/100\n",
      "13/13 [==============================] - 15s 1s/step - loss: 0.0143\n",
      "Epoch 91/100\n",
      "13/13 [==============================] - 15s 1s/step - loss: 0.0141\n",
      "Epoch 92/100\n",
      "13/13 [==============================] - 15s 1s/step - loss: 0.0119\n",
      "Epoch 93/100\n",
      "13/13 [==============================] - 15s 1s/step - loss: 0.0135\n",
      "Epoch 94/100\n",
      "13/13 [==============================] - 15s 1s/step - loss: 0.0100\n",
      "Epoch 95/100\n",
      "13/13 [==============================] - 15s 1s/step - loss: 0.0124\n",
      "Epoch 96/100\n",
      "13/13 [==============================] - 14s 1s/step - loss: 0.0134\n",
      "Epoch 97/100\n",
      "13/13 [==============================] - 14s 1s/step - loss: 0.0131\n",
      "Epoch 98/100\n",
      "13/13 [==============================] - 14s 1s/step - loss: 0.0094\n",
      "Epoch 99/100\n",
      "13/13 [==============================] - 14s 1s/step - loss: 0.0138\n",
      "Epoch 100/100\n",
      "13/13 [==============================] - 14s 1s/step - loss: 0.0127\n"
     ]
    },
    {
     "output_type": "execute_result",
     "data": {
      "text/plain": [
       "<tensorflow.python.keras.callbacks.History at 0x28cb70dae20>"
      ]
     },
     "metadata": {},
     "execution_count": 14
    }
   ],
   "source": [
    "ae.fit(x_train,y_train,epochs=100,batch_size=50,shuffle=True,callbacks=[tensorboard_callback])"
   ]
  },
  {
   "cell_type": "code",
   "execution_count": 15,
   "metadata": {},
   "outputs": [],
   "source": [
    "ae.save_weights('ae_weights.h5')"
   ]
  },
  {
   "cell_type": "code",
   "execution_count": 27,
   "metadata": {},
   "outputs": [],
   "source": [
    "ae.load_weights('ae_weights.h5')"
   ]
  },
  {
   "cell_type": "code",
   "execution_count": 28,
   "metadata": {},
   "outputs": [
    {
     "output_type": "stream",
     "name": "stdout",
     "text": [
      "(1, 5, 8, 128, 128)\n"
     ]
    }
   ],
   "source": [
    "import copy\n",
    "from numpy.random import shuffle\n",
    "import matplotlib.pyplot as plt\n",
    "from PIL import Image\n",
    "\n",
    "shuffle(viz := copy.deepcopy(x_test))\n",
    "#vid = x_train[1:2,0:5,...]\n",
    "vid = viz[1:2,...]\n",
    "print(vid.shape)\n",
    "for f in range(50):\n",
    "  frame = ae.predict(vid[:,f:f+5,...])\n",
    "  vid = np.append(vid,frame,axis=1)\n",
    "\n",
    "def save_gif(frames,name:str):\n",
    "    if name[-4:] != '.gif':\n",
    "        name += '.gif'\n",
    "    frames[0].save(name,format='GIF',append_images=frames[1:],save_all=True,loop=0)\n",
    "\n",
    "save_gif([Image.fromarray(vid[0,j,4,:,:]*255) for j in range(10)],'AE_prediction.gif')\n",
    "\n",
    "save_gif([Image.fromarray(vid[0,j,4,:,:]*255) for j in range(vid.shape[1])],'AE_super_prediction.gif')"
   ]
  },
  {
   "cell_type": "code",
   "execution_count": 18,
   "metadata": {},
   "outputs": [],
   "source": [
    "try:\n",
    "  del ae,x_train,y_train,x_test,y_test\n",
    "except:\n",
    "  pass"
   ]
  },
  {
   "source": [
    "## Train GAN\n",
    "### Load GAN Data"
   ],
   "cell_type": "markdown",
   "metadata": {}
  },
  {
   "cell_type": "code",
   "execution_count": 19,
   "metadata": {},
   "outputs": [],
   "source": [
    "data = np.load(r\"../TrainingData/data.npz\")\n",
    "x_train = data['n_frames']"
   ]
  },
  {
   "source": [
    "### Setup GAN"
   ],
   "cell_type": "markdown",
   "metadata": {}
  },
  {
   "cell_type": "code",
   "execution_count": 20,
   "metadata": {},
   "outputs": [
    {
     "output_type": "stream",
     "name": "stdout",
     "text": [
      "Model: \"feedback_gan\"\n_________________________________________________________________\nLayer (type)                 Output Shape              Param #   \n=================================================================\nGenerator (SimpleUGen)       multiple                  1458491   \n_________________________________________________________________\nDiscriminator (discriminator multiple                  36073     \n_________________________________________________________________\nconcatenate (Concatenate)    multiple                  0         \n=================================================================\nTotal params: 1,494,566\nTrainable params: 1,494,564\nNon-trainable params: 2\n_________________________________________________________________\n"
     ]
    }
   ],
   "source": [
    "# Define the Keras TensorBoard callback.\n",
    "ganlogdir=\"logs/gan_fit/\" + datetime.now().strftime(\"%Y%m%d-%H%M%S\")\n",
    "tensorboard_callback = k.callbacks.TensorBoard(log_dir=ganlogdir)\n",
    "\n",
    "from FeedbackGAN import FeedbackGAN\n",
    "try: del gan\n",
    "except: pass\n",
    "gan = FeedbackGAN(channels=5, do_batch_norm=False,use_noise=True)\n",
    "gan.compile(loss='binary_crossentropy', g_optimizer = Adam(learning_rate=.00001), d_optimizer = Adam(learning_rate=.01),run_eagerly=True);\n",
    "gan.build([50,5,8,128,128]);\n",
    "gan.summary()\n",
    "\n",
    "gan.Generator.load_weights('ae_weights.h5')"
   ]
  },
  {
   "source": [
    "### Run GAN"
   ],
   "cell_type": "markdown",
   "metadata": {}
  },
  {
   "cell_type": "code",
   "execution_count": 21,
   "metadata": {},
   "outputs": [
    {
     "output_type": "stream",
     "name": "stdout",
     "text": [
      "Epoch 1/100\n",
      "51/51 [==============================] - 64s 1s/step - loss: 1.4664 - generator_tricking_metric: 1054.0000 - discriminator_failing_metric: 650.0000\n",
      "Epoch 2/100\n",
      "51/51 [==============================] - 59s 1s/step - loss: 0.7599 - generator_tricking_metric: 0.0000e+00 - discriminator_failing_metric: 765.0000\n",
      "Epoch 3/100\n",
      "51/51 [==============================] - 59s 1s/step - loss: 0.7697 - generator_tricking_metric: 0.0000e+00 - discriminator_failing_metric: 765.0000\n",
      "Epoch 4/100\n",
      "51/51 [==============================] - 60s 1s/step - loss: 0.7719 - generator_tricking_metric: 18.0000 - discriminator_failing_metric: 763.0000\n",
      "Epoch 5/100\n",
      "51/51 [==============================] - 60s 1s/step - loss: 0.8633 - generator_tricking_metric: 677.0000 - discriminator_failing_metric: 706.0000\n",
      "Epoch 6/100\n",
      "51/51 [==============================] - 60s 1s/step - loss: 64.7578 - generator_tricking_metric: 2915.0000 - discriminator_failing_metric: 420.0000\n",
      "Epoch 7/100\n",
      "51/51 [==============================] - 59s 1s/step - loss: 83.9557 - generator_tricking_metric: 3869.0000 - discriminator_failing_metric: 213.0000\n",
      "Epoch 8/100\n",
      "51/51 [==============================] - 60s 1s/step - loss: 4.4791 - generator_tricking_metric: 3712.0000 - discriminator_failing_metric: 325.0000\n",
      "Epoch 9/100\n",
      "51/51 [==============================] - 59s 1s/step - loss: 3.6157 - generator_tricking_metric: 3874.0000 - discriminator_failing_metric: 114.0000\n",
      "Epoch 10/100\n",
      "51/51 [==============================] - 59s 1s/step - loss: 4.6991 - generator_tricking_metric: 3528.0000 - discriminator_failing_metric: 133.0000\n",
      "Epoch 11/100\n",
      "51/51 [==============================] - 59s 1s/step - loss: 5.5878 - generator_tricking_metric: 3633.0000 - discriminator_failing_metric: 324.0000\n",
      "Epoch 12/100\n",
      "51/51 [==============================] - 59s 1s/step - loss: 4.7850 - generator_tricking_metric: 3970.0000 - discriminator_failing_metric: 160.0000\n",
      "Epoch 13/100\n",
      "51/51 [==============================] - 59s 1s/step - loss: 4.5532 - generator_tricking_metric: 3970.0000 - discriminator_failing_metric: 29.0000\n",
      "Epoch 14/100\n",
      "51/51 [==============================] - 59s 1s/step - loss: 6.7285 - generator_tricking_metric: 3739.0000 - discriminator_failing_metric: 9.0000\n",
      "Epoch 15/100\n",
      "51/51 [==============================] - 59s 1s/step - loss: 13.4345 - generator_tricking_metric: 3202.0000 - discriminator_failing_metric: 3.0000\n",
      "Epoch 16/100\n",
      "51/51 [==============================] - 60s 1s/step - loss: 8.6050 - generator_tricking_metric: 4591.0000 - discriminator_failing_metric: 49.0000\n",
      "Epoch 17/100\n",
      "51/51 [==============================] - 61s 1s/step - loss: 6.0808 - generator_tricking_metric: 5104.0000 - discriminator_failing_metric: 24.0000\n",
      "Epoch 18/100\n",
      "51/51 [==============================] - 61s 1s/step - loss: 6.7540 - generator_tricking_metric: 5139.0000 - discriminator_failing_metric: 76.0000\n",
      "Epoch 19/100\n",
      "51/51 [==============================] - 61s 1s/step - loss: 5.2383 - generator_tricking_metric: 5328.0000 - discriminator_failing_metric: 20.0000\n",
      "Epoch 20/100\n",
      "51/51 [==============================] - 61s 1s/step - loss: 5.5563 - generator_tricking_metric: 5202.0000 - discriminator_failing_metric: 7.0000\n",
      "Epoch 21/100\n",
      "51/51 [==============================] - 61s 1s/step - loss: 6.1098 - generator_tricking_metric: 5008.0000 - discriminator_failing_metric: 20.0000\n",
      "Epoch 22/100\n",
      "51/51 [==============================] - 61s 1s/step - loss: 7.8659 - generator_tricking_metric: 4842.0000 - discriminator_failing_metric: 23.0000\n",
      "Epoch 23/100\n",
      "51/51 [==============================] - 61s 1s/step - loss: 50.3634 - generator_tricking_metric: 3259.0000 - discriminator_failing_metric: 369.0000\n",
      "Epoch 24/100\n",
      "51/51 [==============================] - 61s 1s/step - loss: 1.8086 - generator_tricking_metric: 4332.0000 - discriminator_failing_metric: 252.0000\n",
      "Epoch 25/100\n",
      "51/51 [==============================] - 61s 1s/step - loss: 2.7838 - generator_tricking_metric: 4946.0000 - discriminator_failing_metric: 100.0000\n",
      "Epoch 26/100\n",
      "51/51 [==============================] - 61s 1s/step - loss: 2.2383 - generator_tricking_metric: 4041.0000 - discriminator_failing_metric: 259.0000\n",
      "Epoch 27/100\n",
      "51/51 [==============================] - 61s 1s/step - loss: 1.3922 - generator_tricking_metric: 4923.0000 - discriminator_failing_metric: 79.0000\n",
      "Epoch 28/100\n",
      "51/51 [==============================] - 61s 1s/step - loss: 1.8499 - generator_tricking_metric: 5050.0000 - discriminator_failing_metric: 28.0000\n",
      "Epoch 29/100\n",
      "51/51 [==============================] - 61s 1s/step - loss: 2.2123 - generator_tricking_metric: 4797.0000 - discriminator_failing_metric: 48.0000\n",
      "Epoch 30/100\n",
      "51/51 [==============================] - 61s 1s/step - loss: 2.6749 - generator_tricking_metric: 4806.0000 - discriminator_failing_metric: 55.0000\n",
      "Epoch 31/100\n",
      "51/51 [==============================] - 61s 1s/step - loss: 2.9162 - generator_tricking_metric: 4847.0000 - discriminator_failing_metric: 29.0000\n",
      "Epoch 32/100\n",
      "51/51 [==============================] - 61s 1s/step - loss: 2.7456 - generator_tricking_metric: 4678.0000 - discriminator_failing_metric: 25.0000\n",
      "Epoch 33/100\n",
      "51/51 [==============================] - 61s 1s/step - loss: 3.3529 - generator_tricking_metric: 4967.0000 - discriminator_failing_metric: 13.0000\n",
      "Epoch 34/100\n",
      "51/51 [==============================] - 62s 1s/step - loss: 3.3160 - generator_tricking_metric: 5090.0000 - discriminator_failing_metric: 13.0000\n",
      "Epoch 35/100\n",
      "51/51 [==============================] - 61s 1s/step - loss: 3.1566 - generator_tricking_metric: 4851.0000 - discriminator_failing_metric: 53.0000\n",
      "Epoch 36/100\n",
      "51/51 [==============================] - 62s 1s/step - loss: 4.8319 - generator_tricking_metric: 5088.0000 - discriminator_failing_metric: 18.0000\n",
      "Epoch 37/100\n",
      "51/51 [==============================] - 62s 1s/step - loss: 3.9224 - generator_tricking_metric: 4654.0000 - discriminator_failing_metric: 79.0000\n",
      "Epoch 38/100\n",
      "51/51 [==============================] - 62s 1s/step - loss: 9.8886 - generator_tricking_metric: 3311.0000 - discriminator_failing_metric: 407.0000\n",
      "Epoch 39/100\n",
      "51/51 [==============================] - 62s 1s/step - loss: 1.9014 - generator_tricking_metric: 4975.0000 - discriminator_failing_metric: 130.0000\n",
      "Epoch 40/100\n",
      "51/51 [==============================] - 59s 1s/step - loss: 2.0822 - generator_tricking_metric: 5217.0000 - discriminator_failing_metric: 34.0000\n",
      "Epoch 41/100\n",
      "51/51 [==============================] - 59s 1s/step - loss: 2.5458 - generator_tricking_metric: 5263.0000 - discriminator_failing_metric: 40.0000\n",
      "Epoch 42/100\n",
      "51/51 [==============================] - 59s 1s/step - loss: 2.6001 - generator_tricking_metric: 5025.0000 - discriminator_failing_metric: 42.0000\n",
      "Epoch 43/100\n",
      "51/51 [==============================] - 59s 1s/step - loss: 2.6563 - generator_tricking_metric: 5092.0000 - discriminator_failing_metric: 74.0000\n",
      "Epoch 44/100\n",
      "51/51 [==============================] - 59s 1s/step - loss: 2.5068 - generator_tricking_metric: 4892.0000 - discriminator_failing_metric: 58.0000\n",
      "Epoch 45/100\n",
      "51/51 [==============================] - 59s 1s/step - loss: 2.1148 - generator_tricking_metric: 4079.0000 - discriminator_failing_metric: 283.0000\n",
      "Epoch 46/100\n",
      "51/51 [==============================] - 59s 1s/step - loss: 1.6117 - generator_tricking_metric: 4879.0000 - discriminator_failing_metric: 134.0000\n",
      "Epoch 47/100\n",
      "51/51 [==============================] - 59s 1s/step - loss: 2.8942 - generator_tricking_metric: 4978.0000 - discriminator_failing_metric: 74.0000\n",
      "Epoch 48/100\n",
      "51/51 [==============================] - 59s 1s/step - loss: 2.8850 - generator_tricking_metric: 4774.0000 - discriminator_failing_metric: 80.0000\n",
      "Epoch 49/100\n",
      "51/51 [==============================] - 59s 1s/step - loss: 2.2035 - generator_tricking_metric: 4918.0000 - discriminator_failing_metric: 100.0000\n",
      "Epoch 50/100\n",
      "51/51 [==============================] - 59s 1s/step - loss: 3.0328 - generator_tricking_metric: 5242.0000 - discriminator_failing_metric: 39.0000\n",
      "Epoch 51/100\n",
      "51/51 [==============================] - 59s 1s/step - loss: 2.4748 - generator_tricking_metric: 4752.0000 - discriminator_failing_metric: 143.0000\n",
      "Epoch 52/100\n",
      "51/51 [==============================] - 59s 1s/step - loss: 2.7807 - generator_tricking_metric: 4568.0000 - discriminator_failing_metric: 199.0000\n",
      "Epoch 53/100\n",
      "51/51 [==============================] - 59s 1s/step - loss: 1.6634 - generator_tricking_metric: 4899.0000 - discriminator_failing_metric: 144.0000\n",
      "Epoch 54/100\n",
      "51/51 [==============================] - 59s 1s/step - loss: 1.9081 - generator_tricking_metric: 4917.0000 - discriminator_failing_metric: 101.0000\n",
      "Epoch 55/100\n",
      "51/51 [==============================] - 59s 1s/step - loss: 2.3652 - generator_tricking_metric: 5056.0000 - discriminator_failing_metric: 105.0000\n",
      "Epoch 56/100\n",
      "51/51 [==============================] - 60s 1s/step - loss: 2.0053 - generator_tricking_metric: 5392.0000 - discriminator_failing_metric: 59.0000\n",
      "Epoch 57/100\n",
      "51/51 [==============================] - 59s 1s/step - loss: 1.8683 - generator_tricking_metric: 5070.0000 - discriminator_failing_metric: 89.0000\n",
      "Epoch 58/100\n",
      "51/51 [==============================] - 59s 1s/step - loss: 2.3865 - generator_tricking_metric: 4476.0000 - discriminator_failing_metric: 226.0000\n",
      "Epoch 59/100\n",
      "51/51 [==============================] - 59s 1s/step - loss: 8.1879 - generator_tricking_metric: 3853.0000 - discriminator_failing_metric: 314.0000\n",
      "Epoch 60/100\n",
      "51/51 [==============================] - 59s 1s/step - loss: 2.5793 - generator_tricking_metric: 4963.0000 - discriminator_failing_metric: 126.0000\n",
      "Epoch 61/100\n",
      "51/51 [==============================] - 59s 1s/step - loss: 2.4236 - generator_tricking_metric: 4882.0000 - discriminator_failing_metric: 99.0000\n",
      "Epoch 62/100\n",
      "51/51 [==============================] - 59s 1s/step - loss: 5.2849 - generator_tricking_metric: 5233.0000 - discriminator_failing_metric: 97.0000\n",
      "Epoch 63/100\n",
      "51/51 [==============================] - 59s 1s/step - loss: 4.3865 - generator_tricking_metric: 4748.0000 - discriminator_failing_metric: 132.0000\n",
      "Epoch 64/100\n",
      "51/51 [==============================] - 59s 1s/step - loss: 994.2730 - generator_tricking_metric: 2994.0000 - discriminator_failing_metric: 441.0000\n",
      "Epoch 65/100\n",
      "51/51 [==============================] - 59s 1s/step - loss: 23.3561 - generator_tricking_metric: 3096.0000 - discriminator_failing_metric: 414.0000\n",
      "Epoch 66/100\n",
      "51/51 [==============================] - 59s 1s/step - loss: 4.3336 - generator_tricking_metric: 3470.0000 - discriminator_failing_metric: 380.0000\n",
      "Epoch 67/100\n",
      "51/51 [==============================] - 59s 1s/step - loss: 2.8040 - generator_tricking_metric: 3495.0000 - discriminator_failing_metric: 342.0000\n",
      "Epoch 68/100\n",
      "51/51 [==============================] - 59s 1s/step - loss: 3.7670 - generator_tricking_metric: 3629.0000 - discriminator_failing_metric: 338.0000\n",
      "Epoch 69/100\n",
      "51/51 [==============================] - 59s 1s/step - loss: 2.8452 - generator_tricking_metric: 3822.0000 - discriminator_failing_metric: 286.0000\n",
      "Epoch 70/100\n",
      "51/51 [==============================] - 59s 1s/step - loss: 2.9886 - generator_tricking_metric: 3859.0000 - discriminator_failing_metric: 273.0000\n",
      "Epoch 71/100\n",
      "51/51 [==============================] - 60s 1s/step - loss: 2.9895 - generator_tricking_metric: 3214.0000 - discriminator_failing_metric: 402.0000\n",
      "Epoch 72/100\n",
      "51/51 [==============================] - 60s 1s/step - loss: 2.9884 - generator_tricking_metric: 3541.0000 - discriminator_failing_metric: 382.0000\n",
      "Epoch 73/100\n",
      "51/51 [==============================] - 59s 1s/step - loss: 2.5035 - generator_tricking_metric: 2813.0000 - discriminator_failing_metric: 448.0000\n",
      "Epoch 74/100\n",
      "51/51 [==============================] - 59s 1s/step - loss: 1.7538 - generator_tricking_metric: 3172.0000 - discriminator_failing_metric: 374.0000\n",
      "Epoch 75/100\n",
      "51/51 [==============================] - 59s 1s/step - loss: 2.6467 - generator_tricking_metric: 2937.0000 - discriminator_failing_metric: 415.0000\n",
      "Epoch 76/100\n",
      "51/51 [==============================] - 59s 1s/step - loss: 1.6246 - generator_tricking_metric: 3017.0000 - discriminator_failing_metric: 387.0000\n",
      "Epoch 77/100\n",
      "51/51 [==============================] - 59s 1s/step - loss: 1.7595 - generator_tricking_metric: 3480.0000 - discriminator_failing_metric: 356.0000\n",
      "Epoch 78/100\n",
      "51/51 [==============================] - 59s 1s/step - loss: 2.6051 - generator_tricking_metric: 2965.0000 - discriminator_failing_metric: 431.0000\n",
      "Epoch 79/100\n",
      "51/51 [==============================] - 60s 1s/step - loss: 18.9034 - generator_tricking_metric: 2495.0000 - discriminator_failing_metric: 490.0000\n",
      "Epoch 80/100\n",
      "51/51 [==============================] - 59s 1s/step - loss: 15.8017 - generator_tricking_metric: 2607.0000 - discriminator_failing_metric: 470.0000\n",
      "Epoch 81/100\n",
      "51/51 [==============================] - 58s 1s/step - loss: 3.1307 - generator_tricking_metric: 3703.0000 - discriminator_failing_metric: 356.0000\n",
      "Epoch 82/100\n",
      "51/51 [==============================] - 58s 1s/step - loss: 2.6668 - generator_tricking_metric: 4169.0000 - discriminator_failing_metric: 262.0000\n",
      "Epoch 83/100\n",
      "51/51 [==============================] - 58s 1s/step - loss: 2.2467 - generator_tricking_metric: 3843.0000 - discriminator_failing_metric: 329.0000\n",
      "Epoch 84/100\n",
      "51/51 [==============================] - 58s 1s/step - loss: 2.6150 - generator_tricking_metric: 3878.0000 - discriminator_failing_metric: 279.0000\n",
      "Epoch 85/100\n",
      "51/51 [==============================] - 58s 1s/step - loss: 3.3675 - generator_tricking_metric: 3781.0000 - discriminator_failing_metric: 293.0000\n",
      "Epoch 86/100\n",
      "51/51 [==============================] - 58s 1s/step - loss: 2.0961 - generator_tricking_metric: 3996.0000 - discriminator_failing_metric: 301.0000\n",
      "Epoch 87/100\n",
      "51/51 [==============================] - 58s 1s/step - loss: 1.7226 - generator_tricking_metric: 3591.0000 - discriminator_failing_metric: 352.0000\n",
      "Epoch 88/100\n",
      "51/51 [==============================] - 58s 1s/step - loss: 1.8189 - generator_tricking_metric: 4496.0000 - discriminator_failing_metric: 214.0000\n",
      "Epoch 89/100\n",
      "51/51 [==============================] - 58s 1s/step - loss: 2.1082 - generator_tricking_metric: 4883.0000 - discriminator_failing_metric: 203.0000\n",
      "Epoch 90/100\n",
      "51/51 [==============================] - 58s 1s/step - loss: 2.3630 - generator_tricking_metric: 4586.0000 - discriminator_failing_metric: 236.0000\n",
      "Epoch 91/100\n",
      "51/51 [==============================] - 59s 1s/step - loss: 2.2017 - generator_tricking_metric: 4761.0000 - discriminator_failing_metric: 187.0000\n",
      "Epoch 92/100\n",
      "51/51 [==============================] - 60s 1s/step - loss: 3.1671 - generator_tricking_metric: 4938.0000 - discriminator_failing_metric: 194.0000\n",
      "Epoch 93/100\n",
      "51/51 [==============================] - 60s 1s/step - loss: 2.2018 - generator_tricking_metric: 4760.0000 - discriminator_failing_metric: 184.0000\n",
      "Epoch 94/100\n",
      "51/51 [==============================] - 59s 1s/step - loss: 2.8398 - generator_tricking_metric: 4472.0000 - discriminator_failing_metric: 224.0000\n",
      "Epoch 95/100\n",
      "51/51 [==============================] - 59s 1s/step - loss: 3.2524 - generator_tricking_metric: 4028.0000 - discriminator_failing_metric: 291.0000\n",
      "Epoch 96/100\n",
      "51/51 [==============================] - 59s 1s/step - loss: 7.1920 - generator_tricking_metric: 3461.0000 - discriminator_failing_metric: 389.0000\n",
      "Epoch 97/100\n",
      "51/51 [==============================] - 60s 1s/step - loss: 1.6843 - generator_tricking_metric: 3613.0000 - discriminator_failing_metric: 384.0000\n",
      "Epoch 98/100\n",
      "51/51 [==============================] - 61s 1s/step - loss: 1.4420 - generator_tricking_metric: 4133.0000 - discriminator_failing_metric: 286.0000\n",
      "Epoch 99/100\n",
      "51/51 [==============================] - 61s 1s/step - loss: 1.3586 - generator_tricking_metric: 4082.0000 - discriminator_failing_metric: 292.0000\n",
      "Epoch 100/100\n",
      "51/51 [==============================] - 61s 1s/step - loss: 1.2369 - generator_tricking_metric: 5052.0000 - discriminator_failing_metric: 191.0000\n"
     ]
    }
   ],
   "source": [
    "gan.fit(x_train,x_train,epochs=100,batch_size=15,shuffle=True,callbacks=[tensorboard_callback]);"
   ]
  },
  {
   "cell_type": "code",
   "execution_count": 22,
   "metadata": {},
   "outputs": [],
   "source": [
    "gan.save_weights('gan_weights.h5')"
   ]
  },
  {
   "source": [
    "## Visualize"
   ],
   "cell_type": "markdown",
   "metadata": {}
  },
  {
   "cell_type": "code",
   "execution_count": 24,
   "metadata": {},
   "outputs": [],
   "source": [
    "gan.load_weights('gan_weights.h5')"
   ]
  },
  {
   "cell_type": "code",
   "execution_count": 25,
   "metadata": {},
   "outputs": [
    {
     "output_type": "stream",
     "name": "stdout",
     "text": [
      "(1, 5, 8, 128, 128)\n",
      "(1, 55, 8, 128, 128)\n",
      "10\n",
      "(55, 128, 128)\n",
      "55\n"
     ]
    }
   ],
   "source": [
    "from PIL import Image\n",
    "import matplotlib.pyplot as plt\n",
    "\n",
    "vid = x_train[1:2,0:5,...]\n",
    "print(vid.shape)\n",
    "for f in range(50):\n",
    "  frame = gan.Generator.predict(vid[:,f:f+5,...])\n",
    "  vid = np.append(vid,frame,axis=1)\n",
    "  #plt.imshow(frame[0,0,4,:,:],cmap='gray')\n",
    "  #plt.figure()\n",
    "\n",
    "def save_gif(frames,name:str):\n",
    "    if name[-4:] != '.gif':\n",
    "        name += '.gif'\n",
    "    print(len(frames))\n",
    "    frames[0].save(name,format='GIF',append_images=frames[1:],save_all=True,loop=0)\n",
    "print(vid.shape)\n",
    "save_gif([Image.fromarray(vid[0,j,4,:,:]*255) for j in range(10)],'GAN_prediction.gif')\n",
    "print(vid[0,:,4,:,:].shape)\n",
    "save_gif([Image.fromarray(vid[0,j,4,:,:]*255) for j in range(vid.shape[1])],'GAN_super_prediction.gif')"
   ]
  },
  {
   "cell_type": "code",
   "execution_count": 3,
   "metadata": {},
   "outputs": [
    {
     "output_type": "display_data",
     "data": {
      "text/plain": "Reusing TensorBoard on port 6006 (pid 23208), started 3:50:46 ago. (Use '!kill 23208' to kill it.)"
     },
     "metadata": {}
    }
   ],
   "source": [
    "%tensorboard --logdir logs"
   ]
  },
  {
   "cell_type": "code",
   "execution_count": null,
   "metadata": {},
   "outputs": [],
   "source": []
  }
 ]
}