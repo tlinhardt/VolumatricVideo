{
 "metadata": {
  "language_info": {
   "codemirror_mode": {
    "name": "ipython",
    "version": 3
   },
   "file_extension": ".py",
   "mimetype": "text/x-python",
   "name": "python",
   "nbconvert_exporter": "python",
   "pygments_lexer": "ipython3",
   "version": "3.8.5"
  },
  "orig_nbformat": 2,
  "kernelspec": {
   "name": "python385jvsc74a57bd0995efa93ae3765c2302cfbf3fe27e0eb0766ff14c0e61346faf18c86c7d5327d",
   "display_name": "Python 3.8.5 64-bit ('base': conda)"
  }
 },
 "nbformat": 4,
 "nbformat_minor": 2,
 "cells": [
  {
   "cell_type": "code",
   "execution_count": 1,
   "metadata": {},
   "outputs": [
    {
     "output_type": "stream",
     "name": "stdout",
     "text": [
      "Device mapping:\n/job:localhost/replica:0/task:0/device:GPU:0 -> device: 0, name: GeForce RTX 2070 SUPER, pci bus id: 0000:41:00.0, compute capability: 7.5\n\n"
     ]
    }
   ],
   "source": [
    "import tensorflow as tf\n",
    "import numpy as np\n",
    "import tensorflow.keras as k\n",
    "import tensorflow.keras.backend as K\n",
    "from tensorflow.keras.optimizers import Adadelta, RMSprop,SGD,Adam\n",
    "from tensorflow.python.client import device_lib\n",
    "\n",
    "config = tf.compat.v1.ConfigProto(log_device_placement=True,\n",
    "      gpu_options = tf.compat.v1.GPUOptions(per_process_gpu_memory_fraction=0.9))\n",
    "      \n",
    "sess = tf.compat.v1.Session(config=config)\n",
    "physical_devices = tf.config.list_physical_devices('GPU') \n",
    "try:\n",
    "  tf.config.experimental.set_memory_growth(physical_devices[0], True)\n",
    "except:\n",
    "  # Invalid device or cannot modify virtual devices once initialized.\n",
    "  print('failed to set growth')\n",
    "\n",
    "K.set_image_data_format('channels_first');"
   ]
  },
  {
   "cell_type": "code",
   "execution_count": 2,
   "metadata": {},
   "outputs": [
    {
     "output_type": "stream",
     "name": "stdout",
     "text": [
      "(6, 8, 128, 128)\n"
     ]
    }
   ],
   "source": [
    "data = np.load(r\"../TrainingData/data.npz\")\n",
    "x_train = data['n_frames']\n",
    "print(x_train[0].shape)"
   ]
  },
  {
   "cell_type": "code",
   "execution_count": 6,
   "metadata": {},
   "outputs": [
    {
     "output_type": "stream",
     "name": "stdout",
     "text": [
      "Model: \"gan_1\"\n_________________________________________________________________\nLayer (type)                 Output Shape              Param #   \n=================================================================\nGenerator (SimpleUGen)       multiple                  1458491   \n_________________________________________________________________\nDiscriminator (discriminator multiple                  36073     \n_________________________________________________________________\nconcatenate_1 (Concatenate)  multiple                  0         \n=================================================================\nTotal params: 1,494,568\nTrainable params: 1,494,564\nNon-trainable params: 4\n_________________________________________________________________\n"
     ]
    }
   ],
   "source": [
    "from GAN import GAN\n",
    "try: del gan\n",
    "except: pass\n",
    "gan = GAN(channels=5, do_batch_norm=False,use_noise=True)\n",
    "gan.compile(loss='binary_crossentropy', optimizer = Adam(learning_rate=.01),run_eagerly=True);\n",
    "gan.build([50,5,8,128,128]);\n",
    "gan.summary()"
   ]
  },
  {
   "cell_type": "code",
   "execution_count": 4,
   "metadata": {},
   "outputs": [],
   "source": [
    "#from Discriminator import discriminator\n",
    "#disc = discriminator(channels=5)\n",
    "#disc.build([50,5,8,128,128]);\n",
    "#disc.summary()"
   ]
  },
  {
   "cell_type": "code",
   "execution_count": 7,
   "metadata": {
    "tags": []
   },
   "outputs": [
    {
     "output_type": "stream",
     "name": "stdout",
     "text": [
      "Epoch 1/5\n",
      "191/191 [==============================] - 28s 146ms/step - loss: 58.7192 - generator_tricking_metric: 189.0000 - discriminator_failing_metric: 341.0000 - bce_metric: 1.9948\n",
      "Epoch 2/5\n",
      "191/191 [==============================] - 28s 145ms/step - loss: 76532.5845 - generator_tricking_metric: 24.0000 - discriminator_failing_metric: 28.0000 - bce_metric: 0.4719\n",
      "Epoch 3/5\n",
      "191/191 [==============================] - 28s 144ms/step - loss: 127609.1837 - generator_tricking_metric: 2.0000 - discriminator_failing_metric: 14.0000 - bce_metric: 0.1182\n",
      "Epoch 4/5\n",
      "191/191 [==============================] - 28s 145ms/step - loss: 271444.8759 - generator_tricking_metric: 0.0000e+00 - discriminator_failing_metric: 1.0000 - bce_metric: 0.0054\n",
      "Epoch 5/5\n",
      "191/191 [==============================] - 28s 144ms/step - loss: 279252.0957 - generator_tricking_metric: 0.0000e+00 - discriminator_failing_metric: 0.0000e+00 - bce_metric: 0.0000e+00\n"
     ]
    },
    {
     "output_type": "execute_result",
     "data": {
      "text/plain": [
       "<tensorflow.python.keras.callbacks.History at 0x1eabf53f0a0>"
      ]
     },
     "metadata": {},
     "execution_count": 7
    }
   ],
   "source": [
    "gan.fit(x_train,x_train,epochs=5,batch_size=5,shuffle=True)"
   ]
  },
  {
   "cell_type": "code",
   "execution_count": null,
   "metadata": {},
   "outputs": [],
   "source": []
  }
 ]
}